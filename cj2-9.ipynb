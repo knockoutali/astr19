{
 "cells": [
  {
   "cell_type": "code",
   "execution_count": null,
   "id": "6e67dbcf-bb32-4edf-ae8f-ab3ed5d43a3a",
   "metadata": {},
   "outputs": [],
   "source": [
    "import numpy as np\n",
    "import matplotlib.pyplot as plt"
   ]
  },
  {
   "cell_type": "code",
   "execution_count": null,
   "id": "06c5c319-1d6e-4297-9765-f3b51d36966e",
   "metadata": {},
   "outputs": [],
   "source": [
    "x = np.random.uniform(0,1,1000)\n",
    "\n",
    "plt.hist(x,bins = 100,alpha= 0.5,edgecolor = \"black\" )"
   ]
  },
  {
   "cell_type": "code",
   "execution_count": null,
   "id": "cebc1f8c-ab5a-4fc1-b905-b64e016455ba",
   "metadata": {},
   "outputs": [],
   "source": [
    "plt.ylabel('N per bin')\n",
    "plt.xlabel('X')\n",
    "\n",
    "plt.savefig('histogram.pdf')"
   ]
  }
 ],
 "metadata": {
  "kernelspec": {
   "display_name": "Python 3 (ipykernel)",
   "language": "python",
   "name": "python3"
  },
  "language_info": {
   "codemirror_mode": {
    "name": "ipython",
    "version": 3
   },
   "file_extension": ".py",
   "mimetype": "text/x-python",
   "name": "python",
   "nbconvert_exporter": "python",
   "pygments_lexer": "ipython3",
   "version": "3.10.10"
  }
 },
 "nbformat": 4,
 "nbformat_minor": 5
}
